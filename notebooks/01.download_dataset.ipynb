{
 "cells": [
  {
   "cell_type": "code",
   "execution_count": 1,
   "metadata": {},
   "outputs": [],
   "source": [
    "import numpy as np"
   ]
  },
  {
   "cell_type": "markdown",
   "metadata": {},
   "source": [
    "<!-- name of dataset dineshpiyasamara/sentiment-analysis-dataset -->"
   ]
  },
  {
   "cell_type": "code",
   "execution_count": 2,
   "metadata": {},
   "outputs": [],
   "source": [
    "import json\n",
    "with open('../artifacts/kaggle.json','r') as file:\n",
    "    data =json.load(file)"
   ]
  },
  {
   "cell_type": "code",
   "execution_count": 6,
   "metadata": {},
   "outputs": [
    {
     "data": {
      "text/plain": [
       "{'username': 'heshanravindu', 'key': '4170ec4defdcc8cfa2aaf09e08ad22e4'}"
      ]
     },
     "execution_count": 6,
     "metadata": {},
     "output_type": "execute_result"
    }
   ],
   "source": [
    "data\n"
   ]
  },
  {
   "cell_type": "code",
   "execution_count": 4,
   "metadata": {},
   "outputs": [
    {
     "name": "stdout",
     "output_type": "stream",
     "text": [
      "Requirement already satisfied: kaggle in f:\\machine learning projects\\sentiment_analysis_project\\env\\lib\\site-packages (1.5.15)\n",
      "Requirement already satisfied: six>=1.10 in f:\\machine learning projects\\sentiment_analysis_project\\env\\lib\\site-packages (from kaggle) (1.16.0)\n",
      "Requirement already satisfied: certifi in f:\\machine learning projects\\sentiment_analysis_project\\env\\lib\\site-packages (from kaggle) (2023.5.7)\n",
      "Requirement already satisfied: python-dateutil in f:\\machine learning projects\\sentiment_analysis_project\\env\\lib\\site-packages (from kaggle) (2.8.2)\n",
      "Requirement already satisfied: requests in f:\\machine learning projects\\sentiment_analysis_project\\env\\lib\\site-packages (from kaggle) (2.31.0)\n",
      "Requirement already satisfied: tqdm in f:\\machine learning projects\\sentiment_analysis_project\\env\\lib\\site-packages (from kaggle) (4.65.0)\n",
      "Requirement already satisfied: python-slugify in f:\\machine learning projects\\sentiment_analysis_project\\env\\lib\\site-packages (from kaggle) (8.0.1)\n",
      "Requirement already satisfied: urllib3 in f:\\machine learning projects\\sentiment_analysis_project\\env\\lib\\site-packages (from kaggle) (2.0.3)\n",
      "Requirement already satisfied: bleach in f:\\machine learning projects\\sentiment_analysis_project\\env\\lib\\site-packages (from kaggle) (6.0.0)\n",
      "Requirement already satisfied: webencodings in f:\\machine learning projects\\sentiment_analysis_project\\env\\lib\\site-packages (from bleach->kaggle) (0.5.1)\n",
      "Requirement already satisfied: text-unidecode>=1.3 in f:\\machine learning projects\\sentiment_analysis_project\\env\\lib\\site-packages (from python-slugify->kaggle) (1.3)\n",
      "Requirement already satisfied: charset-normalizer<4,>=2 in f:\\machine learning projects\\sentiment_analysis_project\\env\\lib\\site-packages (from requests->kaggle) (3.1.0)\n",
      "Requirement already satisfied: idna<4,>=2.5 in f:\\machine learning projects\\sentiment_analysis_project\\env\\lib\\site-packages (from requests->kaggle) (3.4)\n",
      "Requirement already satisfied: colorama in f:\\machine learning projects\\sentiment_analysis_project\\env\\lib\\site-packages (from tqdm->kaggle) (0.4.6)\n"
     ]
    },
    {
     "name": "stderr",
     "output_type": "stream",
     "text": [
      "\n",
      "[notice] A new release of pip is available: 23.1.2 -> 23.2.1\n",
      "[notice] To update, run: python.exe -m pip install --upgrade pip\n"
     ]
    }
   ],
   "source": [
    "!pip install kaggle"
   ]
  },
  {
   "cell_type": "code",
   "execution_count": 7,
   "metadata": {},
   "outputs": [],
   "source": [
    "import os\n",
    "os.environ['KAGGLE_USERNAME']=data['username']\n",
    "os.environ['KAGGLE_KEY']= data['key']"
   ]
  },
  {
   "cell_type": "code",
   "execution_count": 8,
   "metadata": {},
   "outputs": [],
   "source": [
    "from kaggle.api.kaggle_api_extended import KaggleApi\n",
    "api=KaggleApi()\n",
    "api.authenticate()"
   ]
  },
  {
   "cell_type": "code",
   "execution_count": 9,
   "metadata": {},
   "outputs": [],
   "source": [
    "api.dataset_download_files('dineshpiyasamara/sentiment-analysis-dataset',path='../artifacts/')"
   ]
  },
  {
   "cell_type": "code",
   "execution_count": 10,
   "metadata": {},
   "outputs": [],
   "source": [
    "import zipfile\n",
    "with zipfile.ZipFile('../artifacts/sentiment-analysis-dataset.zip','r') as zip_ref:\n",
    "    zip_ref.extractall('../artifacts/')"
   ]
  },
  {
   "cell_type": "code",
   "execution_count": null,
   "metadata": {},
   "outputs": [],
   "source": []
  },
  {
   "cell_type": "code",
   "execution_count": null,
   "metadata": {},
   "outputs": [],
   "source": []
  }
 ],
 "metadata": {
  "kernelspec": {
   "display_name": "Python 3 (ipykernel)",
   "language": "python",
   "name": "python3"
  },
  "language_info": {
   "codemirror_mode": {
    "name": "ipython",
    "version": 3
   },
   "file_extension": ".py",
   "mimetype": "text/x-python",
   "name": "python",
   "nbconvert_exporter": "python",
   "pygments_lexer": "ipython3",
   "version": "3.8.0"
  }
 },
 "nbformat": 4,
 "nbformat_minor": 2
}
